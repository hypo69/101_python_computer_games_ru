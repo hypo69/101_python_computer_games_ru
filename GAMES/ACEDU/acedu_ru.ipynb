{
  "nbformat": 4,
  "nbformat_minor": 0,
  "metadata": {
    "colab": {
      "provenance": [],
      "authorship_tag": "ABX9TyPUCBC4qjZek2C4rtrl6Mc1",
      "include_colab_link": true
    },
    "kernelspec": {
      "name": "python3",
      "display_name": "Python 3"
    },
    "language_info": {
      "name": "python"
    }
  },
  "cells": [
    {
      "cell_type": "markdown",
      "metadata": {
        "id": "view-in-github",
        "colab_type": "text"
      },
      "source": [
        "<a href=\"https://colab.research.google.com/github/hypo69/101_python_computer_games_ru/blob/master/GAMES/ACEDU/acedu_ru.ipynb\" target=\"_parent\"><img src=\"https://colab.research.google.com/assets/colab-badge.svg\" alt=\"Open In Colab\"/></a>"
      ]
    },
    {
      "cell_type": "markdown",
      "source": [
        "# **Acey-Ducey Card Game**\n",
        "\n",
        "## Описание\n",
        "Это симуляция карточной игры Acey-Ducey. Игрок делает ставки, основываясь на вероятности того, что следующая карта окажется между двумя уже открытыми.\n",
        "\n",
        "- **Начальный капитал:** Игрок начинает с 100 долларов.\n",
        "- **Правила игры:**\n",
        "  1. Компьютер выкладывает две карты.\n",
        "  2. Игрок может решить, сделать ставку или нет.\n",
        "  3. Если ставка сделана, открывается третья карта.\n",
        "  4. Если значение третьей карты лежит между первыми двумя картами, игрок выигрывает ставку. В противном случае, ставка проигрывается.\n",
        "- Игра заканчивается, когда игрок теряет весь капитал или вручную завершает её.\n"
      ],
      "metadata": {
        "id": "X54CRo96jgZf"
      }
    },
    {
      "cell_type": "code",
      "execution_count": 1,
      "metadata": {
        "colab": {
          "base_uri": "https://localhost:8080/",
          "height": 321
        },
        "id": "AvJCeTt3jVSr",
        "outputId": "91086b4c-1a81-4778-8225-4b1da775f2a2"
      },
      "outputs": [
        {
          "output_type": "error",
          "ename": "KeyboardInterrupt",
          "evalue": "Interrupted by user",
          "traceback": [
            "\u001b[0;31m---------------------------------------------------------------------------\u001b[0m",
            "\u001b[0;31mKeyboardInterrupt\u001b[0m                         Traceback (most recent call last)",
            "\u001b[0;32m<ipython-input-1-ffcde415f0f5>\u001b[0m in \u001b[0;36m<cell line: 89>\u001b[0;34m()\u001b[0m\n\u001b[1;32m     88\u001b[0m \u001b[0;31m# Запуск игры\u001b[0m\u001b[0;34m\u001b[0m\u001b[0;34m\u001b[0m\u001b[0m\n\u001b[1;32m     89\u001b[0m \u001b[0;32mif\u001b[0m \u001b[0m__name__\u001b[0m \u001b[0;34m==\u001b[0m \u001b[0;34m\"__main__\"\u001b[0m\u001b[0;34m:\u001b[0m\u001b[0;34m\u001b[0m\u001b[0;34m\u001b[0m\u001b[0m\n\u001b[0;32m---> 90\u001b[0;31m     \u001b[0mplay_acey_ducey\u001b[0m\u001b[0;34m(\u001b[0m\u001b[0;34m)\u001b[0m\u001b[0;34m\u001b[0m\u001b[0;34m\u001b[0m\u001b[0m\n\u001b[0m",
            "\u001b[0;32m<ipython-input-1-ffcde415f0f5>\u001b[0m in \u001b[0;36mplay_acey_ducey\u001b[0;34m()\u001b[0m\n\u001b[1;32m     52\u001b[0m         \u001b[0;31m# Делаем ставку или пропускаем ход\u001b[0m\u001b[0;34m\u001b[0m\u001b[0;34m\u001b[0m\u001b[0m\n\u001b[1;32m     53\u001b[0m         \u001b[0;32mtry\u001b[0m\u001b[0;34m:\u001b[0m\u001b[0;34m\u001b[0m\u001b[0;34m\u001b[0m\u001b[0m\n\u001b[0;32m---> 54\u001b[0;31m             \u001b[0mbet\u001b[0m \u001b[0;34m=\u001b[0m \u001b[0mint\u001b[0m\u001b[0;34m(\u001b[0m\u001b[0minput\u001b[0m\u001b[0;34m(\u001b[0m\u001b[0;34mf\"Сделайте ставку (от 0 до {money}) или введите '0' для пропуска хода: \"\u001b[0m\u001b[0;34m)\u001b[0m\u001b[0;34m)\u001b[0m\u001b[0;34m\u001b[0m\u001b[0;34m\u001b[0m\u001b[0m\n\u001b[0m\u001b[1;32m     55\u001b[0m             \u001b[0;32mif\u001b[0m \u001b[0mbet\u001b[0m \u001b[0;34m<\u001b[0m \u001b[0;36m0\u001b[0m \u001b[0;32mor\u001b[0m \u001b[0mbet\u001b[0m \u001b[0;34m>\u001b[0m \u001b[0mmoney\u001b[0m\u001b[0;34m:\u001b[0m\u001b[0;34m\u001b[0m\u001b[0;34m\u001b[0m\u001b[0m\n\u001b[1;32m     56\u001b[0m                 \u001b[0mprint\u001b[0m\u001b[0;34m(\u001b[0m\u001b[0;34m\"Неверная ставка. Попробуйте снова.\"\u001b[0m\u001b[0;34m)\u001b[0m\u001b[0;34m\u001b[0m\u001b[0;34m\u001b[0m\u001b[0m\n",
            "\u001b[0;32m/usr/local/lib/python3.10/dist-packages/ipykernel/kernelbase.py\u001b[0m in \u001b[0;36mraw_input\u001b[0;34m(self, prompt)\u001b[0m\n\u001b[1;32m    849\u001b[0m                 \u001b[0;34m\"raw_input was called, but this frontend does not support input requests.\"\u001b[0m\u001b[0;34m\u001b[0m\u001b[0;34m\u001b[0m\u001b[0m\n\u001b[1;32m    850\u001b[0m             )\n\u001b[0;32m--> 851\u001b[0;31m         return self._input_request(str(prompt),\n\u001b[0m\u001b[1;32m    852\u001b[0m             \u001b[0mself\u001b[0m\u001b[0;34m.\u001b[0m\u001b[0m_parent_ident\u001b[0m\u001b[0;34m,\u001b[0m\u001b[0;34m\u001b[0m\u001b[0;34m\u001b[0m\u001b[0m\n\u001b[1;32m    853\u001b[0m             \u001b[0mself\u001b[0m\u001b[0;34m.\u001b[0m\u001b[0m_parent_header\u001b[0m\u001b[0;34m,\u001b[0m\u001b[0;34m\u001b[0m\u001b[0;34m\u001b[0m\u001b[0m\n",
            "\u001b[0;32m/usr/local/lib/python3.10/dist-packages/ipykernel/kernelbase.py\u001b[0m in \u001b[0;36m_input_request\u001b[0;34m(self, prompt, ident, parent, password)\u001b[0m\n\u001b[1;32m    893\u001b[0m             \u001b[0;32mexcept\u001b[0m \u001b[0mKeyboardInterrupt\u001b[0m\u001b[0;34m:\u001b[0m\u001b[0;34m\u001b[0m\u001b[0;34m\u001b[0m\u001b[0m\n\u001b[1;32m    894\u001b[0m                 \u001b[0;31m# re-raise KeyboardInterrupt, to truncate traceback\u001b[0m\u001b[0;34m\u001b[0m\u001b[0;34m\u001b[0m\u001b[0m\n\u001b[0;32m--> 895\u001b[0;31m                 \u001b[0;32mraise\u001b[0m \u001b[0mKeyboardInterrupt\u001b[0m\u001b[0;34m(\u001b[0m\u001b[0;34m\"Interrupted by user\"\u001b[0m\u001b[0;34m)\u001b[0m \u001b[0;32mfrom\u001b[0m \u001b[0;32mNone\u001b[0m\u001b[0;34m\u001b[0m\u001b[0;34m\u001b[0m\u001b[0m\n\u001b[0m\u001b[1;32m    896\u001b[0m             \u001b[0;32mexcept\u001b[0m \u001b[0mException\u001b[0m \u001b[0;32mas\u001b[0m \u001b[0me\u001b[0m\u001b[0;34m:\u001b[0m\u001b[0;34m\u001b[0m\u001b[0;34m\u001b[0m\u001b[0m\n\u001b[1;32m    897\u001b[0m                 \u001b[0mself\u001b[0m\u001b[0;34m.\u001b[0m\u001b[0mlog\u001b[0m\u001b[0;34m.\u001b[0m\u001b[0mwarning\u001b[0m\u001b[0;34m(\u001b[0m\u001b[0;34m\"Invalid Message:\"\u001b[0m\u001b[0;34m,\u001b[0m \u001b[0mexc_info\u001b[0m\u001b[0;34m=\u001b[0m\u001b[0;32mTrue\u001b[0m\u001b[0;34m)\u001b[0m\u001b[0;34m\u001b[0m\u001b[0;34m\u001b[0m\u001b[0m\n",
            "\u001b[0;31mKeyboardInterrupt\u001b[0m: Interrupted by user"
          ]
        }
      ],
      "source": [
        "import random\n",
        "\n",
        "# Инициализация колоды карт\n",
        "def create_deck():\n",
        "    ranks = list(range(2, 15))  # Карты от 2 до 14 (туз = 14)\n",
        "    deck = ranks * 4  # 4 масти\n",
        "    random.shuffle(deck)\n",
        "    return deck\n",
        "\n",
        "# Вывод карты в читаемом формате\n",
        "def card_name(value):\n",
        "    if value == 11:\n",
        "        return \"Валет\"\n",
        "    elif value == 12:\n",
        "        return \"Дама\"\n",
        "    elif value == 13:\n",
        "        return \"Король\"\n",
        "    elif value == 14:\n",
        "        return \"Туз\"\n",
        "    else:\n",
        "        return str(value)\n",
        "\n",
        "# Основной игровой цикл\n",
        "def play_acey_ducey():\n",
        "    print(\"Добро пожаловать в игру Acey Ducey!\")\n",
        "    print(\"Правила: Делаете ставку, угадывая, будет ли следующая карта между двумя выложенными.\")\n",
        "    print(\"Если карта равна одной из выложенных или туз, вы проигрываете.\")\n",
        "    print(\"Введите '0', чтобы пропустить ход.\\n\")\n",
        "\n",
        "    money = 100  # Стартовый капитал игрока\n",
        "    deck = create_deck()\n",
        "\n",
        "    while money > 0 and len(deck) >= 3:\n",
        "        print(f\"Ваш текущий баланс: ${money}\")\n",
        "\n",
        "        # Выкладываем две карты\n",
        "        card1 = deck.pop()\n",
        "        card2 = deck.pop()\n",
        "        while card1 == card2:  # Если карты одинаковые, берем новые\n",
        "            deck.insert(0, card1)\n",
        "            deck.insert(0, card2)\n",
        "            card1 = deck.pop()\n",
        "            card2 = deck.pop()\n",
        "\n",
        "        print(f\"Первая карта: {card_name(card1)}\")\n",
        "        print(f\"Вторая карта: {card_name(card2)}\")\n",
        "\n",
        "        # Определяем диапазон\n",
        "        low_card = min(card1, card2)\n",
        "        high_card = max(card1, card2)\n",
        "\n",
        "        # Делаем ставку или пропускаем ход\n",
        "        try:\n",
        "            bet = int(input(f\"Сделайте ставку (от 0 до {money}) или введите '0' для пропуска хода: \"))\n",
        "            if bet < 0 or bet > money:\n",
        "                print(\"Неверная ставка. Попробуйте снова.\")\n",
        "                continue\n",
        "            if bet == 0:\n",
        "                print(\"Вы пропустили ход.\\n\")\n",
        "                continue  # Пропускаем ход\n",
        "        except ValueError:\n",
        "            print(\"Пожалуйста, введите число.\")\n",
        "            continue\n",
        "\n",
        "        # Вытягиваем следующую карту\n",
        "        next_card = deck.pop()\n",
        "        print(f\"Следующая карта: {card_name(next_card)}\")\n",
        "\n",
        "        # Проверяем результат\n",
        "        if next_card == card1 or next_card == card2 or next_card == 14:\n",
        "            print(\"Вы проиграли!\")\n",
        "            money -= bet\n",
        "        elif low_card < next_card < high_card:\n",
        "            print(\"Вы выиграли!\")\n",
        "            money += bet\n",
        "        else:\n",
        "            print(\"Вы проиграли!\")\n",
        "            money -= bet\n",
        "\n",
        "        print()\n",
        "\n",
        "    # Завершение игры\n",
        "    if money <= 0:\n",
        "        print(\"У вас закончились деньги. Игра окончена.\")\n",
        "    else:\n",
        "        print(f\"Игра окончена. Ваш итоговый баланс: ${money}\")\n",
        "\n",
        "# Запуск игры\n",
        "if __name__ == \"__main__\":\n",
        "    play_acey_ducey()"
      ]
    },
    {
      "cell_type": "code",
      "source": [],
      "metadata": {
        "id": "3LNLHsv3jWRW"
      },
      "execution_count": null,
      "outputs": []
    }
  ]
}